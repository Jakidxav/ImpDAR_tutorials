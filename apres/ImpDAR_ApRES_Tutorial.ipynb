{
 "cells": [
  {
   "cell_type": "markdown",
   "metadata": {},
   "source": [
    "# ImpDAR ApRES Tutorial\n",
    "\n",
    "This is an overview of the ApRES functions implemented in ImpDAR. ApRES (Autonomous phase-sensitive Radio Echo Sounder) is a radar system designed to measure vertical ice motion using phase offset (Nicholls et al., 2015). The Python functions in ImpDAR were rewritten from a series of MATLAB scripts (Brennan et al., 2013) (https://discovery.ucl.ac.uk/id/eprint/1425855/1/Brennan_IET-RSN.2013.0053.pdf). The main functionality includes: \n",
    "- loading the data files into an ImpDAR-style .mat file\n",
    "- pulse compression and range conversion\n",
    "- chirp stacking\n",
    "- uncertainty\n",
    "- phase coherence\n",
    "\n",
    "We overview each of these below."
   ]
  },
  {
   "cell_type": "code",
   "execution_count": null,
   "metadata": {},
   "outputs": [],
   "source": [
    "# First import the necessary libraries\n",
    "import numpy as np\n",
    "import matplotlib.pyplot as plt\n",
    "\n",
    "# Import the impdar functions that will be needed\n",
    "import impdar\n",
    "from impdar.lib.ApresData.load_apres import load_apres\n",
    "from impdar.lib.ApresData._ApresDataProcessing import apres_range,stacking,phase2range,phase_uncertainty,range_diff\n",
    "\n",
    "# Plot the data inline instead of with qt5\n",
    "%matplotlib inline"
   ]
  },
  {
   "cell_type": "markdown",
   "metadata": {},
   "source": [
    "## Take a look at the data file\n",
    "\n",
    "ApRES data files are binary, so we need to read them in with the load_apres function."
   ]
  },
  {
   "cell_type": "code",
   "execution_count": null,
   "metadata": {},
   "outputs": [],
   "source": [
    "# Load an example file to look at the settings\n",
    "fname = ['./data/DATA2019-01-01-0337.DAT']\n",
    "apres_data = load_apres(fname)\n",
    "\n",
    "print('### File Header ###: \\n\\n')\n",
    "for arg in vars(apres_data.header):\n",
    "    if arg != 'header_string':\n",
    "        print(arg,': ', vars(apres_data.header)[arg])\n",
    "\n",
    "print('\\n\\n\\n\\n\\n\\n ### File Data ###: \\n\\n')\n",
    "for arg in vars(apres_data):\n",
    "    print(arg,': ', vars(apres_data)[arg])"
   ]
  },
  {
   "cell_type": "markdown",
   "metadata": {},
   "source": [
    "The raw volages measured at the receiver are not directly interpretable. However, we plot them below to make it clear exactly what is stored in the data file."
   ]
  },
  {
   "cell_type": "code",
   "execution_count": null,
   "metadata": {},
   "outputs": [],
   "source": [
    "# plot the raw voltages\n",
    "plt.figure()\n",
    "plt.plot(apres_data.travel_time/1e6,apres_data.data[0][0],'k')\n",
    "plt.ylabel('Voltage')\n",
    "plt.xlabel('Elapsed Time (sec)');"
   ]
  },
  {
   "cell_type": "markdown",
   "metadata": {},
   "source": [
    "## Pulse Compression and Range Conversion\n",
    "\n",
    "Since this is an FMCW (frequency modulated continuous wave) radar system, the elapsed time in the above figure is not directly convertible to a depth below the surface. Instead, we need to do a pulse compression with the transmitted radar pulse. The code in the next cell are also embedded in the ImpDAR function apres_range(), but we display them here for clarity."
   ]
  },
  {
   "cell_type": "code",
   "execution_count": null,
   "metadata": {},
   "outputs": [],
   "source": [
    "# Calculate phase for each range bin centre (measured at t=T/2), given that tau = n/(B*p)\n",
    "t = apres_data.travel_time*1e-6    # Time\n",
    "K = apres_data.header.chirp_grad   # FM sweep rate\n",
    "B = apres_data.header.bandwidth    # bandwidth\n",
    "p = 2  # pad factor for Fourier Transform\n",
    "nf = int(np.floor(p*apres_data.snum/2))  # number of frequencies to recover\n",
    "tau = np.arange(nf)/(B*p)  # round-trip delay between antennas\n",
    "# Brennan et al., (2014) eq 17\n",
    "ϕ_r = 2.*np.pi*apres_data.header.fc*tau - (K*tau**2)/2.  # reference phasor\n",
    "\n",
    "# --------------------------------------\n",
    "\n",
    "# Plot the reference phasor\n",
    "plt.figure(figsize=(4,3))\n",
    "plt.plot(t,np.exp(-1j*ϕ_r),'k.',ms=1)\n",
    "plt.ylabel('Reference Phasor')\n",
    "plt.xlabel('Time (s)');\n",
    "plt.tight_layout()"
   ]
  },
  {
   "cell_type": "markdown",
   "metadata": {},
   "source": [
    "The ImpDAR function, apres_range, uses the reference phasor shown above to convert from the elapsed time to a range measurement. As explaned by Brennan et al. (2013) section 3, the FFT-processed waveform is weighted by the phase conjugate of the reference phasor to do the pulse compression. After executing this function, the data are more interpretable."
   ]
  },
  {
   "cell_type": "code",
   "execution_count": null,
   "metadata": {},
   "outputs": [],
   "source": [
    "# Reload the data file\n",
    "apres_data = load_apres(fname)\n",
    "# pulse compression with the reference phasor\n",
    "apres_range(apres_data,p)\n",
    "\n",
    "# Plot one chirp from the data file\n",
    "plt.figure()\n",
    "# Amplitude\n",
    "plt.subplot(211)\n",
    "plt.plot(apres_data.Rcoarse,apres_data.data[0][0],'k')\n",
    "plt.xlim(0,3000)\n",
    "plt.ylim(-.001,.001)\n",
    "plt.ylabel('Amplitude')\n",
    "plt.xlabel('Depth (m)')\n",
    "# Power\n",
    "plt.subplot(212)\n",
    "plt.plot(apres_data.Rcoarse,10.*np.log10(apres_data.data[0][0]**2.),'k')\n",
    "plt.xlim(0,3000)\n",
    "plt.ylabel('Power (dB)');\n",
    "plt.xlabel('Depth (m)');"
   ]
  },
  {
   "cell_type": "markdown",
   "metadata": {},
   "source": [
    "## Stacking \n",
    "\n",
    "As with any system, we want to stack many ApRES chirps together in order to increase the signal-to-noise ratio. The ImpDAR function, stacking(), does this for us by averaging the signal over the given number of chirps. \n",
    "\n",
    "The ApRES system writes a new file for every 'burst' (set of 100 chirps). However, the load function can handle multiple files if desired. By default, the stacking function will stack across bursts. When stacking each burst individually, change the number of chirps input to the stacking() function to self.cnum."
   ]
  },
  {
   "cell_type": "code",
   "execution_count": null,
   "metadata": {},
   "outputs": [],
   "source": [
    "# Reload the data file\n",
    "apres_data = load_apres(fname)\n",
    "# Pulse compression\n",
    "apres_range(apres_data,2,max_range=4000)\n",
    "\n",
    "# Plot the first chirp from the unstacked data\n",
    "plt.figure()\n",
    "plt.plot(apres_data.Rcoarse,10.*np.log10(apres_data.data[0][0]**2.),'grey')\n",
    "\n",
    "# Reload and stack before pulse compression\n",
    "apres_data = load_apres(fname)\n",
    "stacking(apres_data)\n",
    "apres_range(apres_data,2,max_range=4000)\n",
    "\n",
    "# Plot the stacked chirp\n",
    "plt.plot(apres_data.Rcoarse,10.*np.log10(apres_data.data[0][0]**2.),'k')\n",
    "plt.xlabel('Depth (m)');\n",
    "plt.ylabel('Power (dB)');"
   ]
  },
  {
   "cell_type": "markdown",
   "metadata": {},
   "source": [
    "## Uncertainty\n",
    "\n",
    "ImpDAR has two methods for calculating uncertainty in ApRES data. The first is a calculation of the phase uncertainty for a single acquisition using a 'noise phasor' as done by Kingslake et al. (2014). The second is the coherence uncertainty between two acquisitions which we will show later on. \n",
    "\n",
    "The 'noise phasor' has random phase and amplitude equal to the median amplitude of the measured (or stacked) chirp. This can be calculated with the phase_uncertainty() function in ImpDAR."
   ]
  },
  {
   "cell_type": "code",
   "execution_count": null,
   "metadata": {},
   "outputs": [],
   "source": [
    "# Reload the data file\n",
    "apres_data = load_apres(fname)\n",
    "# Pulse compression\n",
    "stacking(apres_data)\n",
    "apres_range(apres_data,2,max_range=4000)\n",
    "# Calculate the uncertainty\n",
    "ϕ_unc,r_unc = phase_uncertainty(apres_data)\n",
    "\n",
    "plt.figure()\n",
    "# phase axis\n",
    "ax1 = plt.subplot(111)\n",
    "plt.plot(apres_data.Rcoarse,ϕ_unc[0][0],'k.',ms=0.5,alpha=0.5)\n",
    "plt.ylim(0,np.pi/2.)\n",
    "plt.yticks([0,np.pi/4.,np.pi/2.],labels=['0','$\\pi$/4','$\\pi$/2'])\n",
    "plt.ylabel('Phase Uncertainty');\n",
    "# twin axis for range\n",
    "axt = plt.twinx(ax1)\n",
    "plt.ylim(0,100.*phase2range(np.pi/2.,apres_data.header.lambdac));\n",
    "plt.ylabel('Range Uncertainty (cm)');"
   ]
  }
 ],
 "metadata": {
  "kernelspec": {
   "display_name": "Python 3",
   "language": "python",
   "name": "python3"
  },
  "language_info": {
   "codemirror_mode": {
    "name": "ipython",
    "version": 3
   },
   "file_extension": ".py",
   "mimetype": "text/x-python",
   "name": "python",
   "nbconvert_exporter": "python",
   "pygments_lexer": "ipython3",
   "version": "3.8.8"
  }
 },
 "nbformat": 4,
 "nbformat_minor": 4
}
