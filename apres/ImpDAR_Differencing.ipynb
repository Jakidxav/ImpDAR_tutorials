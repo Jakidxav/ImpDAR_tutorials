{
 "cells": [
  {
   "cell_type": "markdown",
   "id": "e5d709e6-3eda-412e-bbee-a0e5197f5341",
   "metadata": {},
   "source": [
    "# ImpDAR ApRES Differencing\n",
    "\n",
    "Here, we define a separate data object for differencing two ApRES acquisitions. This should be done after the initial processing for each aquisition, so have a look at the opening tutorial notebook first.\n",
    "\n",
    "The main processing functionality within the differencing class includes: \n",
    "- phase coherence\n",
    "- phase unwrapping\n",
    "- strain rate calculation\n",
    "- bed reflector isolation\n",
    "\n",
    "We overview each of these below."
   ]
  },
  {
   "cell_type": "code",
   "execution_count": null,
   "id": "b442f45d-ee00-457c-88b7-fcb26cca9d12",
   "metadata": {},
   "outputs": [],
   "source": [
    "import numpy as np\n",
    "import matplotlib.pyplot as plt\n",
    "\n",
    "from impdar.lib.ApresData._ApresDataDifferencing import ApresDiff\n",
    "%matplotlib inline\n",
    "\n",
    "# Load the two data files together into one ApresDiff object\n",
    "dat = ApresDiff('./data/diffdata_time1.mat','./data/diffdata_time2.mat')\n",
    "\n",
    "plt.figure()\n",
    "plt.plot(dat.Rcoarse,10.*np.log10(dat.data1**2.),'k',lw=2,label='year1')\n",
    "plt.plot(dat.Rcoarse,10.*np.log10(dat.data2**2.),'indianred',lw=.5,label='year2')\n",
    "plt.legend()\n",
    "plt.xlim(0,2500)\n",
    "plt.ylabel('Power (dB)')\n",
    "plt.xlabel('Range (m)')"
   ]
  },
  {
   "cell_type": "markdown",
   "id": "0c15c26e-99fe-4e33-a9c8-60da7ebc7919",
   "metadata": {},
   "source": [
    "## Phase Coherence\n",
    "\n",
    "The coherence between two acquisitions is calculated using a correlation coefficient on samples within a moving window using the function, range_diff(). The output from this function gives: the depths at the center of the window for each step, the coherence resulting from the correlation at each step, the range difference between acquisitions, and the uncertainty.\n",
    "\n",
    "This coherence value can be used to calculate the range difference (one of the outputs as stated above), but can also be used for polarimetric coherence (e.g. Jordan et al., 2020).\n",
    "\n",
    "The default uncertainty calculation in this case is to use the Cramer Rao bound (e.g. Jordan et al., 2020). Another option though, is to use the 'noise-phasor' uncertainty as above calculated in each acquisition and added together for the total uncertainty. This is an option in the range_diff() function."
   ]
  },
  {
   "cell_type": "code",
   "execution_count": null,
   "id": "a68e85d8-5a37-480e-86d5-3009f40f3c9b",
   "metadata": {},
   "outputs": [],
   "source": [
    "# Initial calculation of the phase difference between profiles\n",
    "win = 20  # window over which the phase signal are compared\n",
    "step = 20 # step size for the window moving down the profile\n",
    "dat.phase_diff(win,step)\n",
    "\n",
    "plt.figure()\n",
    "plt.subplot(211)\n",
    "plt.tick_params(labelbottom=False)\n",
    "plt.plot(dat.ds,abs(dat.co),'k.')\n",
    "plt.xlim(0,2500)\n",
    "plt.ylabel('Coherence')\n",
    "\n",
    "plt.subplot(212)\n",
    "plt.plot(dat.ds,np.angle(dat.co),'k.')\n",
    "plt.xlim(0,2500)\n",
    "plt.ylabel('Phase Offset')\n",
    "plt.xlabel('Range (m)')"
   ]
  },
  {
   "cell_type": "markdown",
   "id": "68ae375f-d05b-4e7c-b7f1-718c1ffe3368",
   "metadata": {},
   "source": [
    "## Phase Unwrap\n",
    "\n",
    "Automatic unwrapping is done trace-by-trace using a window and a coherence threshold. If the phase of a given trace is more than $\\pi$ from the previous trace and all traces within the neighboring window are above the threshold then the phase should be moved by a full cycle, $2\\pi$.\n",
    "\n",
    "## Range Conversion\n",
    "\n",
    "Convert the phase difference to a vertical velocity profile and calculate uncertainty in vertical velocity.\n",
    "\n",
    "## Strain Rate\n",
    "\n",
    "Use a linear regressor from <scipy.stats> to find the slope of the velocity profile (average strain rate) within some defined window."
   ]
  },
  {
   "cell_type": "code",
   "execution_count": null,
   "id": "78badd52-7380-45d8-9e4f-e5b8cf6ad1c5",
   "metadata": {},
   "outputs": [],
   "source": [
    "# Unwrap the phase profile\n",
    "dat.phase_unwrap(win=20,thresh=.95)\n",
    "# Convert to range\n",
    "dat.range_diff()\n",
    "# Calculate strain rate from the profile and reference the velocity profile at the surface\n",
    "w_surf = -0.15\n",
    "dat.strain_rate(strain_window=(200,1000),w_surf=w_surf)\n",
    "\n",
    "plt.figure(figsize=(6,8),facecolor='w')\n",
    "plt.subplot(411)\n",
    "plt.tick_params(labelbottom=False)\n",
    "plt.plot(dat.ds,dat.phi,'k.')\n",
    "plt.xlim(0,2500)\n",
    "plt.yticks(np.arange(0.,4.01*np.pi,2.*np.pi))\n",
    "plt.gca().set_yticklabels(['0','2π','4π'])\n",
    "plt.ylabel('Unwrapped Phase')\n",
    "\n",
    "plt.subplot(412)\n",
    "plt.plot(dat.ds,dat.w,'k.')\n",
    "plt.plot(dat.ds,dat.ds*dat.eps_zz+w_surf,'r')\n",
    "plt.text(100,-.05,'Strain Rate: '+str(round(dat.eps_zz*1e5))+'x10^5',color='r',rotation=25)\n",
    "plt.xlim(0,2500)\n",
    "plt.ylim(-.2,.2)\n",
    "plt.ylabel('Vertical velocity (m/yr)')\n",
    "plt.xlabel('Range (m)')\n",
    "\n",
    "# Plot the uncertainty calculated from the Cramer-Rao Bound (Jordan et al., 2020)\n",
    "plt.subplot(413)\n",
    "plt.tick_params(labelbottom=False)\n",
    "plt.xlim(0,3500)\n",
    "plt.ylim(0,.1)\n",
    "plt.plot(dat.ds,dat.w_err,'k.',ms=2)\n",
    "plt.ylabel('C-R (m)');\n",
    "\n",
    "# Calculate and plot the uncertainty from the noise phasor as in Kingslake et al. (2014)\n",
    "dat.range_diff(uncertainty='noise_phasor')\n",
    "\n",
    "plt.subplot(414)\n",
    "plt.xlim(0,3500)\n",
    "plt.ylim(0,.1)\n",
    "plt.plot(dat.ds,dat.w_err,'k.',ms=1,alpha=0.5)\n",
    "plt.ylabel('Kings. Unc. (m)');\n",
    "plt.xlabel('Depth (m)');"
   ]
  },
  {
   "cell_type": "markdown",
   "id": "d3048bdc-a8d9-4688-8430-0a80b644f35a",
   "metadata": {},
   "source": [
    "## Isolating the bed reflector\n",
    "\n",
    "Automatically extract the range and power of the bed reflector. Use the <scipy.signal.find_peaks> algorithm to get the lowest 'peak' from both acquisitions and make sure that it has relatively high coherence."
   ]
  },
  {
   "cell_type": "code",
   "execution_count": null,
   "id": "eb720d7d-dca2-46b0-8dbb-97851c0fc77d",
   "metadata": {},
   "outputs": [],
   "source": [
    "# Isolate the bed reflector using the standard input\n",
    "dat.bed_pick()\n",
    "\n",
    "plt.figure()\n",
    "plt.plot(dat.Rcoarse,10.*np.log10(dat.data1**2.),'k',lw=2,label='year1')\n",
    "plt.plot(dat.Rcoarse,10.*np.log10(dat.data2**2.),'indianred',lw=.5,label='year2')\n",
    "plt.plot(dat.bed[1],dat.bed[3],'k.',mfc='w',ms=10,mew=2,label='bed pick')\n",
    "plt.legend()\n",
    "plt.xlim(0,2500)\n",
    "plt.ylabel('Power (dB)')\n",
    "plt.xlabel('Range (m)')"
   ]
  }
 ],
 "metadata": {
  "kernelspec": {
   "display_name": "Python 3",
   "language": "python",
   "name": "python3"
  },
  "language_info": {
   "codemirror_mode": {
    "name": "ipython",
    "version": 3
   },
   "file_extension": ".py",
   "mimetype": "text/x-python",
   "name": "python",
   "nbconvert_exporter": "python",
   "pygments_lexer": "ipython3",
   "version": "3.8.8"
  }
 },
 "nbformat": 4,
 "nbformat_minor": 5
}
