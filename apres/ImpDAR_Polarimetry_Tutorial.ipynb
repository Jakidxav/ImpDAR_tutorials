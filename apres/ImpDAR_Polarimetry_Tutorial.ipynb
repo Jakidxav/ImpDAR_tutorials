{
 "cells": [
  {
   "cell_type": "code",
   "execution_count": null,
   "metadata": {},
   "outputs": [],
   "source": [
    "import numpy as np\n",
    "import matplotlib.pyplot as plt\n",
    "from impdar.lib.ApresData import load_apres,load_quadpol"
   ]
  },
  {
   "cell_type": "code",
   "execution_count": null,
   "metadata": {},
   "outputs": [],
   "source": [
    "qp_dat = load_quadpol.load_quadpol('./data/quadpol')\n",
    "\n",
    "# ----------------------------------------------------------\n",
    "\n",
    "plt.figure()\n",
    "\n",
    "plt.subplot(221)\n",
    "plt.plot(10.*np.log10(qp_dat.shh**2.),qp_dat.range,'.',c='k',ms=1,alpha=0.2)\n",
    "plt.ylim(3000,0)\n",
    "plt.title('shh',fontweight='bold')\n",
    "plt.ylabel('Depth (m)')\n",
    "plt.xlabel('Power (dB)')\n",
    "\n",
    "plt.subplot(222)\n",
    "plt.plot(10.*np.log10(qp_dat.shv**2.),qp_dat.range,'.',c='k',ms=1,alpha=0.2)\n",
    "plt.ylim(3000,0)\n",
    "plt.title('shv',fontweight='bold')\n",
    "plt.ylabel('Depth (m)')\n",
    "plt.xlabel('Power (dB)')\n",
    "\n",
    "plt.subplot(223)\n",
    "plt.plot(10.*np.log10(qp_dat.svh**2.),qp_dat.range,'.',c='k',ms=1,alpha=0.2)\n",
    "plt.ylim(3000,0)\n",
    "plt.title('svh',fontweight='bold')\n",
    "plt.ylabel('Depth (m)')\n",
    "plt.xlabel('Power (dB)')\n",
    "\n",
    "plt.subplot(224)\n",
    "plt.plot(10.*np.log10(qp_dat.svv**2.),qp_dat.range,'.',c='k',ms=1,alpha=0.2)\n",
    "plt.ylim(3000,0)\n",
    "plt.title('svv',fontweight='bold')\n",
    "plt.ylabel('Depth (m)')\n",
    "plt.xlabel('Power (dB)')\n",
    "\n",
    "plt.tight_layout()"
   ]
  },
  {
   "cell_type": "code",
   "execution_count": null,
   "metadata": {},
   "outputs": [],
   "source": [
    "qp_dat.shv = -qp_dat.shv\n",
    "qp_dat.rotational_transform(n_thetas=10)\n",
    "\n",
    "Θs,Ds = np.meshgrid(qp_dat.thetas,qp_dat.range)\n",
    "\n",
    "plt.figure()\n",
    "\n",
    "plt.subplot(221)\n",
    "plt.contourf(Θs,Ds,10.*np.log10(qp_dat.HH**2.),cmap='Greys_r',levels=20,vmin=-100,vmax=-50)\n",
    "plt.ylim(3000,0)\n",
    "plt.title('shh',fontweight='bold')\n",
    "plt.ylabel('Depth (m)')\n",
    "plt.xlabel('Rotation (rad)')\n",
    "\n",
    "plt.subplot(222)\n",
    "plt.contourf(Θs,Ds,10.*np.log10(qp_dat.HV**2.),cmap='Greys_r',levels=20,vmin=-100,vmax=-50)\n",
    "plt.ylim(3000,0)\n",
    "plt.title('shv',fontweight='bold')\n",
    "plt.ylabel('Depth (m)')\n",
    "plt.xlabel('Rotation (rad)')\n",
    "\n",
    "plt.subplot(223)\n",
    "plt.contourf(Θs,Ds,10.*np.log10(qp_dat.VH**2.),cmap='Greys_r',levels=20,vmin=-100,vmax=-50)\n",
    "plt.ylim(3000,0)\n",
    "plt.title('svh',fontweight='bold')\n",
    "plt.ylabel('Depth (m)')\n",
    "plt.xlabel('Rotation (rad)')\n",
    "\n",
    "plt.subplot(224)\n",
    "plt.contourf(Θs,Ds,10.*np.log10(qp_dat.VV**2.),cmap='Greys_r',levels=20,vmin=-100,vmax=-50)\n",
    "plt.ylim(3000,0)\n",
    "plt.title('svv',fontweight='bold')\n",
    "plt.ylabel('Depth (m)')\n",
    "plt.xlabel('Rotation (rad)')\n",
    "\n",
    "plt.tight_layout()"
   ]
  },
  {
   "cell_type": "code",
   "execution_count": null,
   "metadata": {},
   "outputs": [],
   "source": [
    "qp_dat.copolarized_coherence()\n",
    "\n",
    "Θs,Ds = np.meshgrid(qp_dat.thetas,qp_dat.range)\n",
    "\n",
    "plt.figure()\n",
    "plt.subplot(121)\n",
    "plt.contourf(Θs,Ds,np.abs(qp_dat.chhvv),cmap='Greys_r',levels=20)\n",
    "plt.ylim(3000,0)\n",
    "\n",
    "plt.subplot(122)\n",
    "plt.contourf(Θs,Ds,np.angle(qp_dat.chhvv),cmap='Greys_r',levels=20)\n",
    "plt.ylim(3000,0)"
   ]
  },
  {
   "cell_type": "code",
   "execution_count": null,
   "metadata": {},
   "outputs": [],
   "source": [
    "qp_dat.copolarized_phase_gradient()\n",
    "\n",
    "Θs,Ds = np.meshgrid(qp_dat.thetas,qp_dat.range)\n",
    "\n",
    "dphi_dz = qp_dat.dphi_dz.copy()\n",
    "dphi_dz[dphi_dz>.02]=.02\n",
    "dphi_dz[dphi_dz<-.02]=-.02\n",
    "\n",
    "plt.figure()\n",
    "plt.contourf(Θs,Ds,dphi_dz,cmap='seismic',levels=20)\n",
    "plt.colorbar()\n",
    "plt.ylim(3000,0)"
   ]
  }
 ],
 "metadata": {
  "kernelspec": {
   "display_name": "Python 3",
   "language": "python",
   "name": "python3"
  },
  "language_info": {
   "codemirror_mode": {
    "name": "ipython",
    "version": 3
   },
   "file_extension": ".py",
   "mimetype": "text/x-python",
   "name": "python",
   "nbconvert_exporter": "python",
   "pygments_lexer": "ipython3",
   "version": "3.8.8"
  }
 },
 "nbformat": 4,
 "nbformat_minor": 4
}
