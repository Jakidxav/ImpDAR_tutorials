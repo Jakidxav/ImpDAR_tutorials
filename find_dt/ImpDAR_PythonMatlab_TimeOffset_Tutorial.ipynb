{
 "cells": [
  {
   "cell_type": "markdown",
   "metadata": {},
   "source": [
    "# ImpDAR Python-Matlab Time Offset Tutorial"
   ]
  },
  {
   "cell_type": "markdown",
   "metadata": {},
   "source": [
    "## Introduction\n",
    "\n",
    "https://stackoverflow.com/questions/13965740/converting-matlabs-datenum-format-to-python"
   ]
  },
  {
   "cell_type": "code",
   "execution_count": 15,
   "metadata": {},
   "outputs": [],
   "source": [
    "# We get annoying warnings about backends that are safe to ignore\n",
    "import warnings\n",
    "warnings.filterwarnings('ignore')\n",
    "\n",
    "import numpy as np\n",
    "\n",
    "from scipy.io import loadmat\n",
    "from scipy.io import savemat\n",
    "\n",
    "from datetime import date\n",
    "from datetime import timedelta\n",
    "\n",
    "import matplotlib.pyplot as plt\n",
    "%matplotlib inline\n",
    "\n",
    "import os\n",
    "\n",
    "from mpl_toolkits.basemap import Basemap\n",
    "\n",
    "import impdar\n",
    "from impdar.lib import load\n",
    "from impdar.lib import plot\n",
    "from impdar.lib import gpslib"
   ]
  },
  {
   "cell_type": "markdown",
   "metadata": {},
   "source": [
    "## Loading Data, Basic Processing"
   ]
  },
  {
   "cell_type": "code",
   "execution_count": 16,
   "metadata": {},
   "outputs": [
    {
     "name": "stdout",
     "output_type": "stream",
     "text": [
      "Vertical samples reduced to subset [128:8320] of original\n",
      "Bandpassing from  1.0 to  5.0 MHz...\n",
      "Bandpass filter complete.\n"
     ]
    }
   ],
   "source": [
    "#files on disk, with file names to save to\n",
    "herc_file = './data/HDGridE_x53_raw.mat'\n",
    "herc_out_file = './data/HDGridE_x53_cropped_nmo_bandpassed_mod.mat'\n",
    "\n",
    "gps_in_file = './data/HD_precisionGPS_2018_Day3.mat'\n",
    "gps_out_file = './data/HD_precisionGPS_2018_Day3_mod.mat'\n",
    "\n",
    "#load herc dome data, cropped and bandpassed\n",
    "dat = load.load('mat', herc_file)[0]\n",
    "\n",
    "#then crop, apply nmo correction, vertically bandpass\n",
    "dat.crop(lim=0, top_or_bottom='top', dimension='pretrig')\n",
    "dat.nmo(ant_sep=171.4)\n",
    "dat.vertical_band_pass(low=1, high=5)\n",
    "\n",
    "#load precision gps data\n",
    "prec_gps = loadmat(gps_in_file)\n",
    "prec_gps['year'] = prec_gps['gpsdata'][:, 0]\n",
    "prec_gps['day'] = prec_gps['gpsdata'][:, 1]\n",
    "prec_gps['s'] = prec_gps['gpsdata'][:, 2]\n",
    "prec_gps['lat'] = prec_gps['gpsdata'][:, 3]\n",
    "prec_gps['long'] = prec_gps['gpsdata'][:, 4]\n",
    "prec_gps['elev'] = prec_gps['gpsdata'][:, 5]\n",
    "prec_gps['decday'] = prec_gps['gpsdata'][:, 13]"
   ]
  },
  {
   "cell_type": "markdown",
   "metadata": {},
   "source": [
    "## Inpsect the data"
   ]
  },
  {
   "cell_type": "code",
   "execution_count": 17,
   "metadata": {},
   "outputs": [
    {
     "name": "stdout",
     "output_type": "stream",
     "text": [
      "'chan': 2\n",
      "'data': [[-4.34390017e+03 -4.30807805e+03 -4.25361125e+03 ... -2.54144962e+03\n",
      "  -2.83480267e+03 -1.92537598e+03]\n",
      " [-4.22646158e+03 -4.19387435e+03 -4.13716128e+03 ... -2.41046386e+03\n",
      "  -2.71286881e+03 -1.74845536e+03]\n",
      " [-4.10131753e+03 -4.07203076e+03 -4.01355180e+03 ... -2.26818262e+03\n",
      "  -2.57938523e+03 -1.56115175e+03]\n",
      " ...\n",
      " [-2.55123215e+00 -2.80371681e+00 -2.03269353e+00 ... -1.26900380e+00\n",
      "  -1.39325259e+00  1.24042914e+00]\n",
      " [-2.24926475e+00 -2.67737071e+00 -1.81917385e+00 ... -1.21043309e+00\n",
      "  -1.33424378e+00  1.17491706e+00]\n",
      " [-1.95599885e+00 -2.52420878e+00 -1.60561967e+00 ... -1.13881152e+00\n",
      "  -1.26276198e+00  1.09805257e+00]]\n",
      "'decday': [737454.07123351 737454.07126144 737454.07128971 ... 737454.10798595\n",
      " 737454.10801412 737454.10804241]\n",
      "'dt': 5e-09\n",
      "'lat': [-86.44215833 -86.44216167 -86.44215833 ... -86.413815   -86.413795\n",
      " -86.41375167]\n",
      "'long': [-107.063385   -107.06336667 -107.06335    ... -108.23179    -108.23268833\n",
      " -108.23448667]\n",
      "'pressure': [0 0 0 ... 0 0 0]\n",
      "'snum': 8192\n",
      "'tnum': 1294\n",
      "'trace_int': [0 0 0 ... 0 0 0]\n",
      "'trace_num': [   1    2    3 ... 1292 1293 1294]\n",
      "'travel_time': [0.00000000e+00 5.12232269e-03 1.02446454e-02 ... 4.19467005e+01\n",
      " 4.19518228e+01 4.19569451e+01]\n",
      "'trig': 0\n",
      "'trig_level': [50 50 50 ... 50 50 50]\n",
      "'nmo_depth': [0.00000000e+00 4.32836267e-01 8.65672534e-01 ... 3.54449619e+03\n",
      " 3.54492903e+03 3.54536186e+03]\n",
      "'elev': [2637.89990234 2637.39990234 2636.80004883 ... 2632.69995117 2632.39990234\n",
      " 2632.80004883]\n",
      "'dist': [0 0 0 ... 0 0 0]\n",
      "'x_coord': None\n",
      "'y_coord': None\n",
      "'fn': ../data/HDGridE_x53_raw.mat\n",
      "'data_dtype': int16\n",
      "'flags': <impdar.lib.RadarFlags.RadarFlags object at 0x7f83a5b426d8>\n",
      "'picks': <impdar.lib.Picks.Picks object at 0x7f83a17c42b0>\n"
     ]
    }
   ],
   "source": [
    "for k, v in vars(dat).items():\n",
    "    print('\\'{}\\':'.format(k), v)"
   ]
  },
  {
   "cell_type": "code",
   "execution_count": 18,
   "metadata": {},
   "outputs": [
    {
     "name": "stdout",
     "output_type": "stream",
     "text": [
      "dict_keys(['__header__', '__version__', '__globals__', 'gpsdata', 'year', 'day', 's', 'lat', 'long', 'elev', 'decday'])\n"
     ]
    }
   ],
   "source": [
    "print(prec_gps.keys())"
   ]
  },
  {
   "cell_type": "code",
   "execution_count": 19,
   "metadata": {},
   "outputs": [
    {
     "name": "stdout",
     "output_type": "stream",
     "text": [
      "[29.01945602 29.0194676  29.01947917 ... 29.18770834 29.18771991\n",
      " 29.18773148]\n"
     ]
    }
   ],
   "source": [
    "#print(prec_gps['gpsdata'][:, 13])\n",
    "print(prec_gps['decday'])"
   ]
  },
  {
   "cell_type": "code",
   "execution_count": 20,
   "metadata": {},
   "outputs": [
    {
     "name": "stdout",
     "output_type": "stream",
     "text": [
      "[737454.07123351 737454.07126144 737454.07128971 737454.07131745\n",
      " 737454.07134556]\n"
     ]
    }
   ],
   "source": [
    "print(dat.decday[:5])\n",
    "#look at orginal variable here;\n",
    "#so we need to somehow combine the ordinal and the 14th column of prec_gps['gpsdata']"
   ]
  },
  {
   "cell_type": "markdown",
   "metadata": {},
   "source": [
    "### First, let's fix the precision gps's decday variable to correct for the Matlab offset."
   ]
  },
  {
   "cell_type": "code",
   "execution_count": 21,
   "metadata": {},
   "outputs": [
    {
     "name": "stdout",
     "output_type": "stream",
     "text": [
      "737088\n"
     ]
    }
   ],
   "source": [
    "print(date.toordinal(date(2019, 1, 29)))"
   ]
  },
  {
   "cell_type": "code",
   "execution_count": 22,
   "metadata": {},
   "outputs": [
    {
     "name": "stdout",
     "output_type": "stream",
     "text": [
      "366\n"
     ]
    }
   ],
   "source": [
    "print(737454 - 737088)"
   ]
  },
  {
   "cell_type": "code",
   "execution_count": 23,
   "metadata": {},
   "outputs": [
    {
     "name": "stdout",
     "output_type": "stream",
     "text": [
      "2019-01-29\n"
     ]
    }
   ],
   "source": [
    "print(date.fromordinal(737454 - 366))"
   ]
  },
  {
   "cell_type": "code",
   "execution_count": 24,
   "metadata": {},
   "outputs": [],
   "source": [
    "dat.decday -= 366"
   ]
  },
  {
   "cell_type": "code",
   "execution_count": 25,
   "metadata": {},
   "outputs": [
    {
     "name": "stdout",
     "output_type": "stream",
     "text": [
      "[737088.07123351 737088.07126144 737088.07128971 737088.07131745\n",
      " 737088.07134556]\n"
     ]
    }
   ],
   "source": [
    "print(dat.decday[:5])"
   ]
  },
  {
   "cell_type": "code",
   "execution_count": 26,
   "metadata": {},
   "outputs": [
    {
     "name": "stdout",
     "output_type": "stream",
     "text": [
      "[2637.89990234 2637.39990234 2636.80004883 ... 2632.69995117 2632.39990234\n",
      " 2632.80004883]\n"
     ]
    }
   ],
   "source": [
    "print(dat.elev)"
   ]
  },
  {
   "cell_type": "code",
   "execution_count": 27,
   "metadata": {},
   "outputs": [
    {
     "name": "stdout",
     "output_type": "stream",
     "text": [
      "Year:    [2019. 2019. 2019. ... 2019. 2019. 2019.]\n",
      "Day:     [29. 29. 29. ... 29. 29. 29.]\n",
      "Seconds: [1681.000384 1682.000385 1683.000385 1684.000385]\n",
      "Latitude: [-86.41386905 -86.41386904 -86.41386903 -86.41386901]\n",
      "Longitude: [252.47770121 252.47770121 252.47770097 252.47770084]\n",
      "Elev: [2600.6025 2600.5945 2600.5981 2600.5962]\n",
      "?: [1.3 1.3 1.3 1.3]\n",
      "?: [1.1 1.1 1.1 1.1]\n",
      "?: [5.4 5.4 5.4 5.3]\n",
      "?: [0.  1.2 1.8 2.9]\n",
      "?: [10. 10. 10. 10.]\n",
      "?: [1628.18 1628.18 1628.19 1628.2 ]\n",
      "?: [4.8  4.7  4.61 4.53]\n",
      "Decday: [29.01945602 29.0194676  29.01947917 29.01949075]\n",
      "?: [1. 2. 3. 4.]\n"
     ]
    }
   ],
   "source": [
    "print('Year:   ', prec_gps['gpsdata'][:, 0])\n",
    "print('Day:    ', prec_gps['gpsdata'][:, 1])\n",
    "print('Seconds:', prec_gps['gpsdata'][:, 2][:4])\n",
    "print('Latitude:', prec_gps['gpsdata'][:, 3][:4])\n",
    "print('Longitude:', prec_gps['gpsdata'][:, 4][:4])\n",
    "print('Elev:', prec_gps['gpsdata'][:, 5][:4])\n",
    "print('?:', prec_gps['gpsdata'][:, 6][:4])\n",
    "print('?:', prec_gps['gpsdata'][:, 7][:4])\n",
    "print('?:', prec_gps['gpsdata'][:, 8][:4])\n",
    "print('?:', prec_gps['gpsdata'][:, 9][:4])\n",
    "print('?:', prec_gps['gpsdata'][:, 10][:4])\n",
    "print('?:', prec_gps['gpsdata'][:, 11][:4])\n",
    "print('?:', prec_gps['gpsdata'][:, 12][:4])\n",
    "print('Decday:', prec_gps['gpsdata'][:, 13][:4])\n",
    "print('?:', prec_gps['gpsdata'][:, 14][:4])"
   ]
  },
  {
   "cell_type": "code",
   "execution_count": 28,
   "metadata": {},
   "outputs": [
    {
     "name": "stdout",
     "output_type": "stream",
     "text": [
      "[-107.063385   -107.06336667 -107.06335    ... -108.23179    -108.23268833\n",
      " -108.23448667]\n",
      "[-86.44215833 -86.44216167 -86.44215833 ... -86.413815   -86.413795\n",
      " -86.41375167]\n"
     ]
    }
   ],
   "source": [
    "print(dat.long)\n",
    "print(dat.lat)"
   ]
  },
  {
   "cell_type": "code",
   "execution_count": 29,
   "metadata": {},
   "outputs": [
    {
     "name": "stdout",
     "output_type": "stream",
     "text": [
      "[29.]\n"
     ]
    }
   ],
   "source": [
    "print(np.unique(prec_gps['gpsdata'][:, 1]))"
   ]
  },
  {
   "cell_type": "markdown",
   "metadata": {},
   "source": [
    "At this point, I should subtract 366 from the herc file to get the correct day of 2019-01-29."
   ]
  },
  {
   "cell_type": "markdown",
   "metadata": {},
   "source": [
    "From Ben:\n",
    "    \n",
    "The GPS file is: Year, Day, Seconds, Latitude, Longitude, Elevation\n",
    "The remaining columns are unnecessary. Although you could use column 14 which is decimal day of year."
   ]
  },
  {
   "cell_type": "code",
   "execution_count": 30,
   "metadata": {},
   "outputs": [
    {
     "name": "stdout",
     "output_type": "stream",
     "text": [
      "[29.01945602 29.0194676  29.01947917 ... 29.18770834 29.18771991\n",
      " 29.18773148]\n"
     ]
    }
   ],
   "source": [
    "print(prec_gps['decday'])"
   ]
  },
  {
   "cell_type": "code",
   "execution_count": 31,
   "metadata": {},
   "outputs": [],
   "source": [
    "prec_gps['decday'] -= 29\n",
    "prec_gps['decday'] += 737088"
   ]
  },
  {
   "cell_type": "code",
   "execution_count": 32,
   "metadata": {},
   "outputs": [
    {
     "name": "stdout",
     "output_type": "stream",
     "text": [
      "[737088.01945602 737088.0194676  737088.01947917 ... 737088.18770834\n",
      " 737088.18771991 737088.18773148]\n"
     ]
    }
   ],
   "source": [
    "print(prec_gps['decday'])"
   ]
  },
  {
   "cell_type": "markdown",
   "metadata": {},
   "source": [
    "### Now let's look at the radar data."
   ]
  },
  {
   "cell_type": "code",
   "execution_count": 33,
   "metadata": {},
   "outputs": [
    {
     "name": "stderr",
     "output_type": "stream",
     "text": [
      "/home/jakidxav/anaconda3/lib/python3.6/site-packages/ipykernel_launcher.py:5: MatplotlibDeprecationWarning: \n",
      "The dedent function was deprecated in Matplotlib 3.1 and will be removed in 3.3. Use inspect.cleandoc instead.\n",
      "  \"\"\"\n"
     ]
    }
   ],
   "source": [
    "#add x and y coordinates here\n",
    "#m = Basemap(projection='stere', llcrnrlon=225, llcrnrlat=-41.45, urcrnrlon=42.24, urcrnrlat=-39.23, \n",
    "#           lon_0=180, lat_0=-90)\n",
    "\n",
    "m = Basemap(projection='spstere', lon_0=180, boundinglat=-80)\n",
    "x, y = m(dat.long, dat.lat)\n",
    "\n",
    "#we are reconverting the long and lat variables because they are\n",
    "#not using the same projection as we are\n",
    "#this will not affect the results that we have\n",
    "px, py = m(prec_gps['long'], prec_gps['lat'])"
   ]
  },
  {
   "cell_type": "code",
   "execution_count": 34,
   "metadata": {},
   "outputs": [],
   "source": [
    "dat.x = x\n",
    "dat.y = y\n",
    "prec_gps['x_coord'] = px\n",
    "prec_gps['y_coord'] = py"
   ]
  },
  {
   "cell_type": "code",
   "execution_count": 35,
   "metadata": {},
   "outputs": [
    {
     "data": {
      "image/png": "[encoded data removed]",
      "text/plain": [
       "<Figure size 432x288 with 1 Axes>"
      ]
     },
     "metadata": {
      "needs_background": "light"
     },
     "output_type": "display_data"
    }
   ],
   "source": [
    "#%matplotlib notebook\n",
    "plt.scatter(px/1000, py/1000)\n",
    "plt.scatter(dat.x/1000, dat.y/1000)\n",
    "plt.xlabel('x')\n",
    "plt.ylabel('y')\n",
    "plt.show()"
   ]
  },
  {
   "cell_type": "code",
   "execution_count": 36,
   "metadata": {},
   "outputs": [],
   "source": [
    "#remove the singleton dimension\n",
    "herc_lat = np.squeeze(dat.lat)\n",
    "herc_lon = np.squeeze(dat.long)\n",
    "\n",
    "gps_lat = np.squeeze(prec_gps['lat'])\n",
    "gps_lon = np.squeeze(prec_gps['long'])"
   ]
  },
  {
   "cell_type": "code",
   "execution_count": 37,
   "metadata": {},
   "outputs": [],
   "source": [
    "prec_gps['lat'] = gps_lat\n",
    "prec_gps['long'] = gps_lon"
   ]
  },
  {
   "cell_type": "code",
   "execution_count": 38,
   "metadata": {},
   "outputs": [],
   "source": [
    "herc_lon += 360"
   ]
  },
  {
   "cell_type": "code",
   "execution_count": 39,
   "metadata": {
    "scrolled": true
   },
   "outputs": [
    {
     "data": {
      "image/png": "[encoded data removed]",
      "text/plain": [
       "<Figure size 432x288 with 1 Axes>"
      ]
     },
     "metadata": {
      "needs_background": "light"
     },
     "output_type": "display_data"
    }
   ],
   "source": [
    "plt.scatter(gps_lat, gps_lon)\n",
    "plt.scatter(herc_lat, herc_lon)\n",
    "plt.xlabel('lat')\n",
    "plt.ylabel('lon')\n",
    "plt.show()"
   ]
  },
  {
   "cell_type": "code",
   "execution_count": 40,
   "metadata": {},
   "outputs": [
    {
     "name": "stdout",
     "output_type": "stream",
     "text": [
      "[105 106 107 108 109 110 111 112 113 114 115]\n"
     ]
    }
   ],
   "source": [
    "print(np.where(herc_lon>280)[0])"
   ]
  },
  {
   "cell_type": "code",
   "execution_count": 41,
   "metadata": {},
   "outputs": [],
   "source": [
    "keep_points = np.where(herc_lon<280)[0]\n",
    "herc_lat = herc_lat[keep_points]\n",
    "herc_lon = herc_lon[keep_points]"
   ]
  },
  {
   "cell_type": "code",
   "execution_count": 42,
   "metadata": {},
   "outputs": [
    {
     "data": {
      "image/png": "[encoded data removed]",
      "text/plain": [
       "<Figure size 432x288 with 1 Axes>"
      ]
     },
     "metadata": {
      "needs_background": "light"
     },
     "output_type": "display_data"
    }
   ],
   "source": [
    "#%matplotlib notebook\n",
    "plt.scatter(gps_lat, gps_lon)\n",
    "plt.scatter(herc_lat, herc_lon)\n",
    "plt.xlabel('lat')\n",
    "plt.ylabel('lon')\n",
    "plt.show()"
   ]
  },
  {
   "cell_type": "code",
   "execution_count": 43,
   "metadata": {},
   "outputs": [],
   "source": [
    "prec_gps['px'] = px\n",
    "prec_gps['py'] = py\n",
    "\n",
    "dat.decday = dat.decday[keep_points]\n",
    "\n",
    "dat.lat = herc_lat\n",
    "dat.long = herc_lon"
   ]
  },
  {
   "cell_type": "code",
   "execution_count": 44,
   "metadata": {},
   "outputs": [],
   "source": [
    "x2, y2 = m(dat.long, dat.lat)"
   ]
  },
  {
   "cell_type": "code",
   "execution_count": 45,
   "metadata": {},
   "outputs": [
    {
     "data": {
      "image/png": "[encoded data removed]",
      "text/plain": [
       "<Figure size 432x288 with 1 Axes>"
      ]
     },
     "metadata": {
      "needs_background": "light"
     },
     "output_type": "display_data"
    }
   ],
   "source": [
    "#%matplotlib notebook\n",
    "plt.scatter(px/1000, py/1000)\n",
    "plt.scatter(x2/1000, y2/1000)\n",
    "plt.xlabel('x')\n",
    "plt.ylabel('y')\n",
    "plt.show()"
   ]
  },
  {
   "cell_type": "code",
   "execution_count": 46,
   "metadata": {},
   "outputs": [],
   "source": [
    "dat.x_coord = x2\n",
    "dat.y_coord = y2"
   ]
  },
  {
   "cell_type": "code",
   "execution_count": 47,
   "metadata": {},
   "outputs": [
    {
     "data": {
      "text/plain": [
       "array([0, 0, 0, ..., 0, 0, 0], dtype=uint8)"
      ]
     },
     "execution_count": 47,
     "metadata": {},
     "output_type": "execute_result"
    }
   ],
   "source": [
    "dat.dist"
   ]
  },
  {
   "cell_type": "code",
   "execution_count": 48,
   "metadata": {},
   "outputs": [
    {
     "data": {
      "text/plain": [
       "array([0.00000000e+00, 3.92021567e-01, 7.80477534e-01, ...,\n",
       "       2.57372333e+07, 2.57372400e+07, 2.57372534e+07])"
      ]
     },
     "execution_count": 48,
     "metadata": {},
     "output_type": "execute_result"
    }
   ],
   "source": [
    "dat.dist = np.hstack(([0], np.cumsum(np.sqrt(np.diff(x) ** 2.0 + np.diff(y) ** 2.0))))\n",
    "dat.dist"
   ]
  },
  {
   "cell_type": "code",
   "execution_count": 49,
   "metadata": {},
   "outputs": [
    {
     "data": {
      "text/plain": [
       "dict_keys(['__header__', '__version__', '__globals__', 'gpsdata', 'year', 'day', 's', 'lat', 'long', 'elev', 'decday', 'x_coord', 'y_coord', 'px', 'py'])"
      ]
     },
     "execution_count": 49,
     "metadata": {},
     "output_type": "execute_result"
    }
   ],
   "source": [
    "prec_gps.keys()"
   ]
  },
  {
   "cell_type": "code",
   "execution_count": 50,
   "metadata": {},
   "outputs": [],
   "source": [
    "dat.save(herc_out_file)\n",
    "savemat(gps_out_file, prec_gps)"
   ]
  },
  {
   "cell_type": "code",
   "execution_count": 51,
   "metadata": {},
   "outputs": [
    {
     "name": "stdout",
     "output_type": "stream",
     "text": [
      "'chan': 2\n",
      "'data': [[-4.34390017e+03 -4.30807805e+03 -4.25361125e+03 ... -2.54144962e+03\n",
      "  -2.83480267e+03 -1.92537598e+03]\n",
      " [-4.22646158e+03 -4.19387435e+03 -4.13716128e+03 ... -2.41046386e+03\n",
      "  -2.71286881e+03 -1.74845536e+03]\n",
      " [-4.10131753e+03 -4.07203076e+03 -4.01355180e+03 ... -2.26818262e+03\n",
      "  -2.57938523e+03 -1.56115175e+03]\n",
      " ...\n",
      " [-2.55123215e+00 -2.80371681e+00 -2.03269353e+00 ... -1.26900380e+00\n",
      "  -1.39325259e+00  1.24042914e+00]\n",
      " [-2.24926475e+00 -2.67737071e+00 -1.81917385e+00 ... -1.21043309e+00\n",
      "  -1.33424378e+00  1.17491706e+00]\n",
      " [-1.95599885e+00 -2.52420878e+00 -1.60561967e+00 ... -1.13881152e+00\n",
      "  -1.26276198e+00  1.09805257e+00]]\n",
      "'decday': [737088.07123351 737088.07126144 737088.07128971 ... 737088.10798595\n",
      " 737088.10801412 737088.10804241]\n",
      "'dt': 5e-09\n",
      "'lat': [-86.44215833 -86.44216167 -86.44215833 ... -86.413815   -86.413795\n",
      " -86.41375167]\n",
      "'long': [252.936615   252.93663333 252.93665    ... 251.76821    251.76731167\n",
      " 251.76551333]\n",
      "'pressure': [0 0 0 ... 0 0 0]\n",
      "'snum': 8192\n",
      "'tnum': 1294\n",
      "'trace_int': [0 0 0 ... 0 0 0]\n",
      "'trace_num': [   1    2    3 ... 1292 1293 1294]\n",
      "'travel_time': [0.00000000e+00 5.12232269e-03 1.02446454e-02 ... 4.19467005e+01\n",
      " 4.19518228e+01 4.19569451e+01]\n",
      "'trig': 0\n",
      "'trig_level': [50 50 50 ... 50 50 50]\n",
      "'nmo_depth': [0.00000000e+00 4.32836267e-01 8.65672534e-01 ... 3.54449619e+03\n",
      " 3.54492903e+03 3.54536186e+03]\n",
      "'elev': [2637.89990234 2637.39990234 2636.80004883 ... 2632.69995117 2632.39990234\n",
      " 2632.80004883]\n",
      "'dist': [0.00000000e+00 3.92021567e-01 7.80477534e-01 ... 2.57372333e+07\n",
      " 2.57372400e+07 2.57372534e+07]\n",
      "'x_coord': [-736459.32659391 -736459.64411322 -736459.25565906 ... -735909.5159353\n",
      " -735909.35837994 -735908.6948629 ]\n",
      "'y_coord': [-998657.97778376 -998658.207702   -998658.20888674 ... -989980.7614494\n",
      " -989974.12471364 -989960.72402193]\n",
      "'fn': ../data/HDGridE_x53_raw.mat\n",
      "'data_dtype': int16\n",
      "'flags': <impdar.lib.RadarFlags.RadarFlags object at 0x7f83a5b426d8>\n",
      "'picks': <impdar.lib.Picks.Picks object at 0x7f83a17c42b0>\n",
      "'x': [-736459.32659391 -736459.64411322 -736459.25565906 ... -735909.5159353\n",
      " -735909.35837994 -735908.6948629 ]\n",
      "'y': [-998657.97778376 -998658.207702   -998658.20888674 ... -989980.7614494\n",
      " -989974.12471364 -989960.72402193]\n"
     ]
    }
   ],
   "source": [
    "for k, v in vars(dat).items():\n",
    "    print('\\'{}\\':'.format(k), v)"
   ]
  },
  {
   "cell_type": "code",
   "execution_count": 52,
   "metadata": {},
   "outputs": [],
   "source": [
    "prec_gps2 = loadmat(gps_out_file)"
   ]
  },
  {
   "cell_type": "code",
   "execution_count": 53,
   "metadata": {},
   "outputs": [
    {
     "data": {
      "text/plain": [
       "dict_keys(['__header__', '__version__', '__globals__', 'gpsdata', 'year', 'day', 's', 'lat', 'long', 'elev', 'decday', 'x_coord', 'y_coord', 'px', 'py'])"
      ]
     },
     "execution_count": 53,
     "metadata": {},
     "output_type": "execute_result"
    }
   ],
   "source": [
    "prec_gps2.keys()"
   ]
  },
  {
   "cell_type": "code",
   "execution_count": null,
   "metadata": {},
   "outputs": [],
   "source": []
  }
 ],
 "metadata": {
  "kernelspec": {
   "display_name": "Python 3",
   "language": "python",
   "name": "python3"
  },
  "language_info": {
   "codemirror_mode": {
    "name": "ipython",
    "version": 3
   },
   "file_extension": ".py",
   "mimetype": "text/x-python",
   "name": "python",
   "nbconvert_exporter": "python",
   "pygments_lexer": "ipython3",
   "version": "3.6.8"
  }
 },
 "nbformat": 4,
 "nbformat_minor": 2
}
