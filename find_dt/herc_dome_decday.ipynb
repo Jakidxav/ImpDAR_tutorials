{
 "cells": [
  {
   "cell_type": "code",
   "execution_count": 1,
   "metadata": {},
   "outputs": [],
   "source": [
    "import numpy as np\n",
    "\n",
    "from scipy.io import loadmat\n",
    "from scipy.io import savemat\n",
    "\n",
    "from datetime import date\n",
    "from datetime import timedelta\n",
    "\n",
    "import matplotlib.pyplot as plt\n",
    "%matplotlib inline\n",
    "\n",
    "import os\n",
    "\n",
    "from mpl_toolkits.basemap import Basemap"
   ]
  },
  {
   "cell_type": "code",
   "execution_count": 2,
   "metadata": {},
   "outputs": [],
   "source": [
    "#files on disk, with file names to save to\n",
    "herc_file = 'HDGridE_x53_nmo_cropped_bandpassed.mat'\n",
    "herc_out_file = 'HDGridE_x53_nmo_cropped_bandpassed_mod.mat'\n",
    "\n",
    "gps_in_file = 'HD_precisionGPS_2018_Day3.mat'\n",
    "gps_out_file = 'HD_precisionGPS_2018_Day3_mod.mat'\n",
    "\n",
    "#load herc dome data, cropped and bandpassed\n",
    "herc = loadmat(herc_file)\n",
    "\n",
    "#load precision gps data\n",
    "prec_gps = loadmat(gps_in_file)\n",
    "prec_gps['decday'] = prec_gps['gpsdata'][:, 13]"
   ]
  },
  {
   "cell_type": "markdown",
   "metadata": {},
   "source": [
    "### Inpsect the data"
   ]
  },
  {
   "cell_type": "code",
   "execution_count": 3,
   "metadata": {},
   "outputs": [
    {
     "name": "stdout",
     "output_type": "stream",
     "text": [
      "dict_keys(['__header__', '__version__', '__globals__', 'chan', 'data', 'decday', 'dist', 'dt', 'elev', 'lat', 'long', 'pressure', 'snum', 'tnum', 'trace_int', 'trace_num', 'travel_time', 'trig', 'trig_level', 'nmo_depth', 'picks', 'flags'])\n"
     ]
    }
   ],
   "source": [
    "print(herc.keys())"
   ]
  },
  {
   "cell_type": "code",
   "execution_count": 4,
   "metadata": {},
   "outputs": [
    {
     "name": "stdout",
     "output_type": "stream",
     "text": [
      "dict_keys(['__header__', '__version__', '__globals__', 'elev', 'gpsdata', 'lat', 'long', 'x', 'y', 'decday'])\n"
     ]
    }
   ],
   "source": [
    "print(prec_gps.keys())"
   ]
  },
  {
   "cell_type": "code",
   "execution_count": 5,
   "metadata": {},
   "outputs": [
    {
     "name": "stdout",
     "output_type": "stream",
     "text": [
      "[29.01945602 29.0194676  29.01947917 ... 29.18770834 29.18771991\n",
      " 29.18773148]\n"
     ]
    }
   ],
   "source": [
    "#print(prec_gps['gpsdata'][:, 13])\n",
    "print(prec_gps['decday'])"
   ]
  },
  {
   "cell_type": "code",
   "execution_count": 6,
   "metadata": {},
   "outputs": [
    {
     "name": "stdout",
     "output_type": "stream",
     "text": [
      "[[737454.11485596 737454.11488421 737454.11491231 ... 737454.12296025\n",
      "  737454.12298836 737454.12301646]]\n"
     ]
    }
   ],
   "source": [
    "print(herc['decday'][:5])\n",
    "#look at orginal variable here;\n",
    "#so we need to somehow combine the ordinal and the 14th column of prec_gps['gpsdata']"
   ]
  },
  {
   "cell_type": "code",
   "execution_count": 7,
   "metadata": {},
   "outputs": [
    {
     "name": "stdout",
     "output_type": "stream",
     "text": [
      "[[737454.11485596 737454.11488421 737454.11491231 ... 737454.12296025\n",
      "  737454.12298836 737454.12301646]]\n"
     ]
    }
   ],
   "source": [
    "print(herc['decday'][-5:])"
   ]
  },
  {
   "cell_type": "markdown",
   "metadata": {},
   "source": [
    "### First, let's fix the precision gps's decday variable to correct for the Matlab offset."
   ]
  },
  {
   "cell_type": "code",
   "execution_count": 8,
   "metadata": {},
   "outputs": [
    {
     "name": "stdout",
     "output_type": "stream",
     "text": [
      "737088\n"
     ]
    }
   ],
   "source": [
    "print(date.toordinal(date(2019, 1, 29)))"
   ]
  },
  {
   "cell_type": "code",
   "execution_count": 9,
   "metadata": {},
   "outputs": [
    {
     "name": "stdout",
     "output_type": "stream",
     "text": [
      "366\n"
     ]
    }
   ],
   "source": [
    "print(737454 - 737088)"
   ]
  },
  {
   "cell_type": "code",
   "execution_count": 10,
   "metadata": {},
   "outputs": [
    {
     "name": "stdout",
     "output_type": "stream",
     "text": [
      "2019-01-29\n"
     ]
    }
   ],
   "source": [
    "print(date.fromordinal(737454 - 366))"
   ]
  },
  {
   "cell_type": "code",
   "execution_count": 11,
   "metadata": {},
   "outputs": [],
   "source": [
    "herc['decday'] -= 366"
   ]
  },
  {
   "cell_type": "code",
   "execution_count": 12,
   "metadata": {},
   "outputs": [
    {
     "name": "stdout",
     "output_type": "stream",
     "text": [
      "[[737088.11485596 737088.11488421 737088.11491231 ... 737088.12296025\n",
      "  737088.12298836 737088.12301646]]\n"
     ]
    }
   ],
   "source": [
    "print(herc['decday'][:5])"
   ]
  },
  {
   "cell_type": "code",
   "execution_count": 13,
   "metadata": {},
   "outputs": [
    {
     "name": "stdout",
     "output_type": "stream",
     "text": [
      "Year:    [2019. 2019. 2019. ... 2019. 2019. 2019.]\n",
      "Day:     [29. 29. 29. ... 29. 29. 29.]\n",
      "Seconds: [1681.000384 1682.000385 1683.000385 1684.000385]\n"
     ]
    }
   ],
   "source": [
    "print('Year:   ', prec_gps['gpsdata'][:, 0])\n",
    "print('Day:    ', prec_gps['gpsdata'][:, 1])\n",
    "print('Seconds:', prec_gps['gpsdata'][:, 2][:4])"
   ]
  },
  {
   "cell_type": "code",
   "execution_count": 14,
   "metadata": {},
   "outputs": [
    {
     "name": "stdout",
     "output_type": "stream",
     "text": [
      "[29.]\n"
     ]
    }
   ],
   "source": [
    "print(np.unique(prec_gps['gpsdata'][:, 1]))"
   ]
  },
  {
   "cell_type": "markdown",
   "metadata": {},
   "source": [
    "At this point, I should subtract 366 from the herc file to get the correct day of 2019-01-29."
   ]
  },
  {
   "cell_type": "markdown",
   "metadata": {},
   "source": [
    "From Ben:\n",
    "    \n",
    "The GPS file is: Year, Day, Seconds, Latitude, Longitude, Elevation\n",
    "The remaining columns are unnecessary. Although you could use column 14 which is decimal day of year."
   ]
  },
  {
   "cell_type": "code",
   "execution_count": 15,
   "metadata": {},
   "outputs": [
    {
     "name": "stdout",
     "output_type": "stream",
     "text": [
      "[29.01945602 29.0194676  29.01947917 ... 29.18770834 29.18771991\n",
      " 29.18773148]\n"
     ]
    }
   ],
   "source": [
    "print(prec_gps['decday'])"
   ]
  },
  {
   "cell_type": "code",
   "execution_count": 16,
   "metadata": {},
   "outputs": [],
   "source": [
    "prec_gps['decday'] -= 29\n",
    "prec_gps['decday'] += 737088"
   ]
  },
  {
   "cell_type": "code",
   "execution_count": 17,
   "metadata": {},
   "outputs": [
    {
     "name": "stdout",
     "output_type": "stream",
     "text": [
      "[737088.01945602 737088.0194676  737088.01947917 ... 737088.18770834\n",
      " 737088.18771991 737088.18773148]\n"
     ]
    }
   ],
   "source": [
    "print(prec_gps['decday'])"
   ]
  },
  {
   "cell_type": "markdown",
   "metadata": {},
   "source": [
    "### Now let's look at the radar data."
   ]
  },
  {
   "cell_type": "code",
   "execution_count": 18,
   "metadata": {},
   "outputs": [
    {
     "name": "stderr",
     "output_type": "stream",
     "text": [
      "/home/jakidxav/anaconda3/lib/python3.6/site-packages/ipykernel_launcher.py:5: MatplotlibDeprecationWarning: \n",
      "The dedent function was deprecated in Matplotlib 3.1 and will be removed in 3.3. Use inspect.cleandoc instead.\n",
      "  \"\"\"\n"
     ]
    }
   ],
   "source": [
    "#add x and y coordinates here\n",
    "#m = Basemap(projection='stere', llcrnrlon=225, llcrnrlat=-41.45, urcrnrlon=42.24, urcrnrlat=-39.23, \n",
    "#           lon_0=180, lat_0=-90)\n",
    "\n",
    "m = Basemap(projection='spstere', lon_0=180, boundinglat=-80)\n",
    "x, y = m(herc['long'], herc['lat'])\n",
    "\n",
    "#we are reconverting the long and lat variables because they are\n",
    "#not using the same projection as we are\n",
    "#this will not affect the results that we have\n",
    "px, py = m(prec_gps['long'], prec_gps['lat'])\n",
    "\n",
    "# #try the same thing in cartopy\n",
    "# #no source projection for lat/lon: still in 3D space, but maybe try to pass the original geoid=WGS84\n",
    "# projection = crs.SouthPoleStereo(central_longitude=180)\n",
    "# x2, y2 = projection.transform_points(crs.WGS84, x, y)\n",
    "\n",
    "herc['x'] = x\n",
    "herc['y'] = y\n",
    "prec_gps['x'] = px\n",
    "prec_gps['y'] = py"
   ]
  },
  {
   "cell_type": "code",
   "execution_count": 19,
   "metadata": {},
   "outputs": [
    {
     "data": {
      "image/png": "[encoded data removed]",
      "text/plain": [
       "<Figure size 432x288 with 1 Axes>"
      ]
     },
     "metadata": {
      "needs_background": "light"
     },
     "output_type": "display_data"
    }
   ],
   "source": [
    "#%matplotlib notebook\n",
    "plt.scatter(px/1000, py/1000)\n",
    "plt.scatter(herc['x']/1000, herc['y']/1000)\n",
    "plt.xlabel('x')\n",
    "plt.ylabel('y')\n",
    "plt.show()"
   ]
  },
  {
   "cell_type": "code",
   "execution_count": 20,
   "metadata": {},
   "outputs": [],
   "source": [
    "#remove the singleton dimension\n",
    "herc_lat = np.squeeze(herc['lat'])\n",
    "herc_lon = np.squeeze(herc['long'])\n",
    "\n",
    "gps_lat = np.squeeze(prec_gps['lat'])\n",
    "gps_lon = np.squeeze(prec_gps['long'])"
   ]
  },
  {
   "cell_type": "code",
   "execution_count": 21,
   "metadata": {},
   "outputs": [],
   "source": [
    "herc_lon += 360"
   ]
  },
  {
   "cell_type": "code",
   "execution_count": 22,
   "metadata": {
    "scrolled": true
   },
   "outputs": [
    {
     "data": {
      "image/png": "[encoded data removed]",
      "text/plain": [
       "<Figure size 432x288 with 1 Axes>"
      ]
     },
     "metadata": {
      "needs_background": "light"
     },
     "output_type": "display_data"
    }
   ],
   "source": [
    "plt.scatter(gps_lat, gps_lon)\n",
    "plt.scatter(herc_lat, herc_lon)\n",
    "plt.xlabel('lat')\n",
    "plt.ylabel('lon')\n",
    "plt.show()"
   ]
  },
  {
   "cell_type": "code",
   "execution_count": 23,
   "metadata": {},
   "outputs": [
    {
     "name": "stdout",
     "output_type": "stream",
     "text": [
      "[ 110  111  112  113  114  115  116  117  118  119  120 1627 1628 1629]\n"
     ]
    }
   ],
   "source": [
    "print(np.where(herc_lon>280)[0])"
   ]
  },
  {
   "cell_type": "code",
   "execution_count": 24,
   "metadata": {},
   "outputs": [],
   "source": [
    "keep_points = np.where(herc_lon<280)[0]\n",
    "herc_lat = herc_lat[keep_points]\n",
    "herc_lon = herc_lon[keep_points]"
   ]
  },
  {
   "cell_type": "code",
   "execution_count": 25,
   "metadata": {},
   "outputs": [
    {
     "data": {
      "image/png": "[encoded data removed]",
      "text/plain": [
       "<Figure size 432x288 with 1 Axes>"
      ]
     },
     "metadata": {
      "needs_background": "light"
     },
     "output_type": "display_data"
    }
   ],
   "source": [
    "#%matplotlib notebook\n",
    "plt.scatter(gps_lat, gps_lon)\n",
    "plt.scatter(herc_lat, herc_lon)\n",
    "plt.xlabel('lat')\n",
    "plt.ylabel('lon')\n",
    "plt.show()"
   ]
  },
  {
   "cell_type": "code",
   "execution_count": 26,
   "metadata": {},
   "outputs": [],
   "source": [
    "prec_gps['px'] = px\n",
    "prec_gps['py'] = py\n",
    "\n",
    "herc['decday'] = herc['decday'][0][keep_points]\n",
    "#herc['elev'] = herc['elev'][0][keep_points]\n",
    "#herc['pressure'] = herc['pressure'][0][keep_points]\n",
    "\n",
    "herc['lat'] = herc_lat\n",
    "herc['long'] = herc_lon"
   ]
  },
  {
   "cell_type": "code",
   "execution_count": 27,
   "metadata": {},
   "outputs": [],
   "source": [
    "x2, y2 = m(herc['long'], herc['lat'])"
   ]
  },
  {
   "cell_type": "code",
   "execution_count": 28,
   "metadata": {},
   "outputs": [
    {
     "data": {
      "image/png": "[encoded data removed]",
      "text/plain": [
       "<Figure size 432x288 with 1 Axes>"
      ]
     },
     "metadata": {
      "needs_background": "light"
     },
     "output_type": "display_data"
    }
   ],
   "source": [
    "#%matplotlib notebook\n",
    "plt.scatter(px/1000, py/1000)\n",
    "plt.scatter(x2/1000, y2/1000)\n",
    "plt.xlabel('x')\n",
    "plt.ylabel('y')\n",
    "plt.show()"
   ]
  },
  {
   "cell_type": "code",
   "execution_count": 29,
   "metadata": {},
   "outputs": [],
   "source": [
    "herc['x'] = x2\n",
    "herc['y'] = y2"
   ]
  },
  {
   "cell_type": "code",
   "execution_count": 30,
   "metadata": {},
   "outputs": [],
   "source": [
    "savemat('HDGridE_x53_nmo_cropped_bandpassed_mod.mat', herc)\n",
    "savemat(gps_out_file, prec_gps)"
   ]
  },
  {
   "cell_type": "code",
   "execution_count": 32,
   "metadata": {},
   "outputs": [
    {
     "data": {
      "text/plain": [
       "dict_keys(['__header__', '__version__', '__globals__', 'chan', 'data', 'decday', 'dist', 'dt', 'elev', 'lat', 'long', 'pressure', 'snum', 'tnum', 'trace_int', 'trace_num', 'travel_time', 'trig', 'trig_level', 'nmo_depth', 'picks', 'flags', 'x', 'y'])"
      ]
     },
     "execution_count": 32,
     "metadata": {},
     "output_type": "execute_result"
    }
   ],
   "source": [
    "herc.keys()"
   ]
  },
  {
   "cell_type": "code",
   "execution_count": 33,
   "metadata": {},
   "outputs": [
    {
     "data": {
      "text/plain": [
       "dict_keys(['__header__', '__version__', '__globals__', 'elev', 'gpsdata', 'lat', 'long', 'x', 'y', 'decday', 'px', 'py'])"
      ]
     },
     "execution_count": 33,
     "metadata": {},
     "output_type": "execute_result"
    }
   ],
   "source": [
    "prec_gps.keys()"
   ]
  },
  {
   "cell_type": "code",
   "execution_count": 35,
   "metadata": {},
   "outputs": [],
   "source": [
    "herc['dist'] = dist = np.hstack(([0], np.cumsum(np.sqrt(np.diff(x) ** 2.0 + np.diff(y) ** 2.0))))"
   ]
  },
  {
   "cell_type": "code",
   "execution_count": null,
   "metadata": {},
   "outputs": [],
   "source": []
  }
 ],
 "metadata": {
  "kernelspec": {
   "display_name": "Python 3",
   "language": "python",
   "name": "python3"
  },
  "language_info": {
   "codemirror_mode": {
    "name": "ipython",
    "version": 3
   },
   "file_extension": ".py",
   "mimetype": "text/x-python",
   "name": "python",
   "nbconvert_exporter": "python",
   "pygments_lexer": "ipython3",
   "version": "3.6.8"
  }
 },
 "nbformat": 4,
 "nbformat_minor": 2
}
