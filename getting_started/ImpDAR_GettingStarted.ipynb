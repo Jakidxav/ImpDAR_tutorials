{
 "cells": [
  {
   "cell_type": "markdown",
   "metadata": {},
   "source": [
    "# ImpDAR Getting Started Tutorial\n",
    "\n",
    "Welcome to ImpDAR!\n",
    "This is an impulse radar processor primarily targeted toward ice-penetrating radar systems. However, the potential applications of this software are much more widespread. Our goal is to provide an alternative to the expensive commercial software that would be purchased with a ground-penetrating radar system from a company such as GSSI or Sensors and Software. We provide all of the processing tools that are needed to move from a raw data file to an interpretable image of the subsurface. Moreover, our software is agnostic to the system used, so we can import data from a variety of different ground-penetrating radar systems and interact with the data in the exact same way.\n",
    "\n",
    "If you have not yet installed ImpDAR on your computer, you can go to our github page (https://github.com/dlilien/ImpDAR) to download or clone the repository. For those less familiar with Python programming, take a look at our Read the Docs page for help (https://impdar.readthedocs.io/en/latest/).\n",
    "\n",
    "The preferred pathway for interacting with ImpDAR is through the terminal. However, our API allows relatively easy access through other programs as well. Here, we want to walk you through the processing flow using a Jupyter Notebook, where all of the processing functions can be called through Python. No prior knowledge of Python is necessary.\n",
    "\n",
    "## Import the necessary libraries\n",
    "\n",
    "The very first thing to do with any Python script is to import all of the libraries that will be used. These will allow us to call functions that help with loading scripts, some numerical issues, and plotting. Knowing exactly what each of these are is not important to understanding the radar processing flow. "
   ]
  },
  {
   "cell_type": "code",
   "execution_count": null,
   "metadata": {},
   "outputs": [],
   "source": [
    "# Standard Python Libraries\n",
    "import numpy as np\n",
    "import matplotlib.pyplot as plt\n",
    "plt.rcParams['figure.dpi'] = 300\n",
    "%config InlineBackend.figure_format = 'retina'"
   ]
  },
  {
   "cell_type": "markdown",
   "metadata": {},
   "source": [
    "## Load the raw data\n",
    "\n",
    "With the standard libraries loaded, we can now look at some radar data. This particular radargram was collected at the Northeast Greenland Ice Stream (Christianson et al., 2014). We discuss more of the details about exactly what we are looking at when we get to a more interpretable image. "
   ]
  },
  {
   "cell_type": "code",
   "execution_count": null,
   "metadata": {},
   "outputs": [],
   "source": [
    "# To look through data files we use glob which is a library \n",
    "# that finds all the file names matching our description\n",
    "import glob\n",
    "files = glob.glob('./data_in/*[!.gps]')\n",
    "\n",
    "# Impdar's loading function\n",
    "from impdar.lib import load\n",
    "dat = load.load_olaf.load_olaf(files)\n",
    "# save the loaded data as a .mat file\n",
    "dat.save('./test_data_raw.mat')\n",
    "\n",
    "# Impdar's plotting function\n",
    "from impdar.lib.plot import plot\n",
    "%matplotlib inline\n",
    "plot('./test_data_raw.mat')"
   ]
  },
  {
   "cell_type": "markdown",
   "metadata": {},
   "source": [
    "Raw radar data are a mess. We can't really see anything meaningful here. \n",
    "\n",
    "In order to illustrate the first processing step, let's plot a single 'trace'. A radar trace is one collection of voltages measured by the oscilloscope through time. The total time for collection in this case is ~50 microseconds. "
   ]
  },
  {
   "cell_type": "code",
   "execution_count": null,
   "metadata": {},
   "outputs": [],
   "source": [
    "### Try changing the trace index to see whether they are similar or different ###\n",
    "### Make sure that you understand the relationship between this figure and above ###\n",
    "\n",
    "# Reload in case a lower cell gets run\n",
    "dat = load.load_olaf.load_olaf(files)\n",
    "\n",
    "# Plot a single trace, where tr is the trace number in the above image\n",
    "plot('./test_data_raw.mat',tr=100)"
   ]
  },
  {
   "cell_type": "markdown",
   "metadata": {},
   "source": [
    "## Bandpass filter\n",
    "\n",
    "The first big processing step is to isolate the frequency band of interest. The radar antennas set this frequency. In our case, the antennas are ~20 m long (frequency of 3 MHz) so we want to allow the frequency band from 1-5 MHz pass while damping all other frequencies (i.e. bandpass filter). \n",
    "\n",
    "This filter works on all the traces simultaneously, but to illustrate its effect we will plot the single trace again."
   ]
  },
  {
   "cell_type": "code",
   "execution_count": null,
   "metadata": {},
   "outputs": [],
   "source": [
    "# Do the vertical bandpass filter from 1-5 MHz\n",
    "dat.vertical_band_pass(1,5)\n",
    "# save again\n",
    "dat.save('./test_data_bandpassed.mat')\n",
    "\n",
    "# Plot a single trace\n",
    "plot('./test_data_bandpassed.mat',tr=100)"
   ]
  },
  {
   "cell_type": "markdown",
   "metadata": {},
   "source": [
    "Now plot the entire image again."
   ]
  },
  {
   "cell_type": "code",
   "execution_count": null,
   "metadata": {},
   "outputs": [],
   "source": [
    "# Plot all the bandpassed data\n",
    "plot('./test_data_bandpassed.mat')"
   ]
  },
  {
   "cell_type": "markdown",
   "metadata": {},
   "source": [
    "## Geometric Corrections\n",
    "\n",
    "Now that the data look like something useful, we can do a few more corrections to make it more physical. Two geometric corrections allow us to look at the image more like something under the surface instead of in this two-way travel time dimension that we have been using. First we crop out the 'pretrigger' which is data collected by the receiver before the radar pulse is actually transmitted. Second we do a 'normal move-out' correction (nmo) which corrects for the separation distance between the receiving and transmitting antennas. We have an additional tutorial for more details about the nmo filter in the case of a variable velocity (e.g. in snow or firn). After the nmo correction, we can more responsibly plot the y axis in 'depth' rather than 'travel time' by adding 'yd=True' in the plot function."
   ]
  },
  {
   "cell_type": "code",
   "execution_count": null,
   "metadata": {},
   "outputs": [],
   "source": [
    "# Crop the pretrigger out from the top of each trace\n",
    "dat.crop(0.,dimension='pretrig')\n",
    "# Do the normal move-out correction with antenna spacing 160 m\n",
    "dat.nmo(160)\n",
    "\n",
    "# Save and plot\n",
    "dat.save('test_data_nmo.mat')\n",
    "plot('test_data_nmo.mat',yd=True)"
   ]
  },
  {
   "cell_type": "markdown",
   "metadata": {},
   "source": [
    "## Georeferencing and Interpolation\n",
    "\n",
    "Up to now, everything has been plotted as 'trace number' in the horizontal. In reality though, we want to know where in space each trace was measured. Typically, these data are collected with some kind of GPS either internal to the system itself, or attached as an external antenna.\n",
    "\n",
    "In cases where the GPS data are available, ImpDAR can load the data in, assigning lat/long to each trace. Then, the coordinates can be projected into x/y and a distance vector created for distance traversed along the profile. The final step is to interpolate the image onto equal trace spacing. All this is handled in the 'interp' function as seen below."
   ]
  },
  {
   "cell_type": "code",
   "execution_count": null,
   "metadata": {},
   "outputs": [],
   "source": [
    "# Interpolate onto equal trace spacing of 5 m\n",
    "from impdar.lib.gpslib import interp\n",
    "interp([dat],5)\n",
    "\n",
    "# Save and plot the interpolated image\n",
    "dat.save('test_data_interp.mat')\n",
    "plot('test_data_interp.mat',yd=True,xd=True)"
   ]
  },
  {
   "cell_type": "markdown",
   "metadata": {},
   "source": [
    "## Denoise\n",
    "\n",
    "Denoising is done with a 2-dimensional Wiener filter. Inputs are the number of pixels to include in the filter (vertical, horizontal).\n",
    "\n",
    "**Note: After denoising the image, the wave amplitude no longer has a physical meaning. For amplitude analysis, denoising filters should be avoided."
   ]
  },
  {
   "cell_type": "code",
   "execution_count": null,
   "metadata": {},
   "outputs": [],
   "source": [
    "dat.denoise(1,15)\n",
    "\n",
    "# Save and plot\n",
    "dat.save('test_data_denoise.mat')\n",
    "plot('test_data_denoise.mat',yd=True,xd=True)"
   ]
  },
  {
   "cell_type": "markdown",
   "metadata": {},
   "source": [
    "## Linear Range Gain\n",
    "\n",
    "Sometimes, when the data are very low amplitude near the bed, we want to boost the signal so that we can see it. The simplest way to do this is with a linear range gain (i.e. multiply each trace by a ramp that increases toward the bottom). \n",
    "\n",
    "**Note: As with the denoising filter above, amplitude interpretations should not be done after this type of filter has been used."
   ]
  },
  {
   "cell_type": "code",
   "execution_count": null,
   "metadata": {},
   "outputs": [],
   "source": [
    "dat.rangegain(0.05)\n",
    "\n",
    "# Save and plot\n",
    "dat.save('test_data_gain.mat')\n",
    "plot('test_data_gain.mat',yd=True,xd=True)"
   ]
  }
 ],
 "metadata": {
  "kernelspec": {
   "display_name": "Python 3",
   "language": "python",
   "name": "python3"
  },
  "language_info": {
   "codemirror_mode": {
    "name": "ipython",
    "version": 3
   },
   "file_extension": ".py",
   "mimetype": "text/x-python",
   "name": "python",
   "nbconvert_exporter": "python",
   "pygments_lexer": "ipython3",
   "version": "3.7.3"
  }
 },
 "nbformat": 4,
 "nbformat_minor": 2
}
