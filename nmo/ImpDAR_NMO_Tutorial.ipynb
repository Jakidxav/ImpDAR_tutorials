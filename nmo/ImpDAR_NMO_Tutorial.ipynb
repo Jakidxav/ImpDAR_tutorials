{
 "cells": [
  {
   "cell_type": "markdown",
   "metadata": {},
   "source": [
    "# ImpDAR NMO Filter Tutorial (Variable Velocity)\n",
    "\n",
    "The normal move-out filter corrects for source-receiver antenna separation by finding the legs of the triangular travel path. Within ImpDAR, this filter also converts from two-way-travel-time to depth. Both the filter and the depth conversion account for variable wave speed when requested.\n",
    "\n",
    "Here, we walk through an example using ground-based snow radar from South Cascade Glacier. Density cores drilled in the snowpack are used to constrain the wave speed."
   ]
  },
  {
   "cell_type": "code",
   "execution_count": null,
   "metadata": {},
   "outputs": [],
   "source": [
    "# We get annoying warnings about backends that are safe to ignore\n",
    "import warnings\n",
    "warnings.filterwarnings('ignore')\n",
    "\n",
    "# Load standard libraries\n",
    "import numpy as np\n",
    "import matplotlib.pyplot as plt\n",
    "from impdar.lib import load\n",
    "# To make the plots look nicer\n",
    "plt.rcParams['figure.dpi'] = 300\n",
    "%config InlineBackend.figure_format = 'retina'"
   ]
  },
  {
   "cell_type": "markdown",
   "metadata": {},
   "source": [
    "Load the raw data (PulseEKKO format) and do some initial processecing steps (vertical bandpass and pretrigger crop) before considering the nmo filter."
   ]
  },
  {
   "cell_type": "code",
   "execution_count": null,
   "metadata": {},
   "outputs": [],
   "source": [
    "# Load the Pulse EKKO data\n",
    "dat = load.load('pe',['data/LINE01.DT1'])[0]\n",
    "# Bandpass filter\n",
    "dat.vertical_band_pass(250,750)\n",
    "# Crop the pretrigger\n",
    "dat.crop(0.,dimension='pretrig',rezero=True)\n",
    "\n",
    "# Plot the \n",
    "from impdar.lib.plot import plot\n",
    "%matplotlib inline\n",
    "dat.save('./scg_data_raw.mat')\n",
    "plot('./scg_data_raw.mat')"
   ]
  },
  {
   "cell_type": "markdown",
   "metadata": {},
   "source": [
    "### Get permittivity and wave-speed profile\n",
    "\n",
    "The speed of light in ice is density-dependent, it travels faster in lower density snow/firn/ice which makes sense because that is closer to air. ImpDAR has some functionality to convert from snow/firn density to permittivity (wave speed). Here, we load the density profile measured at South Cascade Glacier and convert that to permittivity and subsequently to wave speed.\n",
    "\n",
    "At every reflector depth for the correction, the nmo filter uses a root-mean-square wave speed to calculate the time between the two antennas. This is one leg of the triangle, the recorded time is the hypoteneuse, and the second leg is the vertical time that we really want."
   ]
  },
  {
   "cell_type": "code",
   "execution_count": null,
   "metadata": {},
   "outputs": [],
   "source": [
    "# load the density-to-permittivity function from ImpDAR\n",
    "from impdar.lib.permittivity_models import firn_permittivity\n",
    "\n",
    "# Load data from the density core at South Cascade Glacier\n",
    "rho_profile_data = np.genfromtxt('2018_density_profile.csv',delimiter=',')\n",
    "profile_depth = rho_profile_data[:,0]\n",
    "profile_rho = rho_profile_data[:,1]\n",
    "# speed of light in vacuum\n",
    "c = 300.\n",
    "# convert density to profile velocity\n",
    "profile_vel = c/np.sqrt(np.real(firn_permittivity(profile_rho)))\n",
    "\n",
    "# Plot a figure to show density, permittivity, and velocity profiles\n",
    "plt.figure(figsize=(8,4))\n",
    "\n",
    "ax1 = plt.subplot(131)\n",
    "plt.ylabel('Depth (m)')\n",
    "plt.xlabel('Density (kg/m3)')\n",
    "plt.plot(profile_rho,profile_depth,'k')\n",
    "plt.ylim(max(profile_depth),0)\n",
    "\n",
    "ax2 = plt.subplot(132)\n",
    "plt.xlabel('Permittivity')\n",
    "plt.plot(firn_permittivity(profile_rho),profile_depth,'k')\n",
    "plt.ylim(max(profile_depth),0)\n",
    "\n",
    "ax3 = plt.subplot(133)\n",
    "plt.xlabel('Velocity (m/$\\mu$sec)')\n",
    "plt.plot(profile_vel,profile_depth,'k')\n",
    "plt.ylim(max(profile_depth),0)\n",
    "\n",
    "plt.tight_layout()\n",
    "plt.draw()"
   ]
  },
  {
   "cell_type": "markdown",
   "metadata": {},
   "source": [
    "### NMO Correction\n",
    "\n",
    "Finally, do the nmo correction. This correction stretches samples near the surface, so a 1-dimensional interpolation is done afterward to get equal depth sampling. \n",
    "\n",
    "You will notice that the corrected times are longer than the uncorrected times. This is because the raw times are measured at the reciever. Really though, we need the times relative to the transmit pulse for the correction. The time for the initial pulse to get to the antennae is added to the measured time to get the transmitted time and that is corrected to get the vertical leg of the triangle (the final nmo time)."
   ]
  },
  {
   "cell_type": "code",
   "execution_count": null,
   "metadata": {},
   "outputs": [],
   "source": [
    "# Plot a figure before and after the correction\n",
    "plt.figure(figsize=(8,6))\n",
    "\n",
    "ax1 = plt.subplot(221)\n",
    "ax1.plot(dat.travel_time,'k',label='Uncorrected')\n",
    "plt.xlabel('Sample Number')\n",
    "plt.ylabel('Travel Time ($\\mu$s)')\n",
    "ax2 = plt.subplot(222)\n",
    "ax2.plot(dat.travel_time/2.*169,'k')\n",
    "plt.xlabel('Sample Number')\n",
    "plt.ylabel('Depth (m)')\n",
    "\n",
    "ax3 = plt.subplot(223)\n",
    "plt.plot(dat.data[:,400],dat.travel_time,'k',lw=0.5)\n",
    "plt.xlim(-100,100)\n",
    "plt.ylim(0.32,0.0)\n",
    "plt.ylabel('Travel Time ($\\mu$s)')\n",
    "plt.xlabel('Amplitude')\n",
    "plt.title('Uncorrected')\n",
    "\n",
    "# ---------------------\n",
    "\n",
    "# NMO correction\n",
    "# 10 m is an overestimate of the antenna separation in this case\n",
    "# but it is useful to understand what is going on\n",
    "dat.nmo(10.,rho_profile='2018_density_profile.csv')\n",
    "\n",
    "# ---------------------\n",
    "\n",
    "ax1.plot(dat.travel_time,'k:',label='Corrected')\n",
    "ax1.legend()\n",
    "ax2.plot(dat.nmo_depth,'k:')\n",
    "\n",
    "ax4 = plt.subplot(224)\n",
    "plt.plot(dat.data[:,400],dat.travel_time,'k',lw=0.5)\n",
    "plt.xlim(-100,100)\n",
    "plt.ylim(0.32,0.0)\n",
    "plt.ylabel('Travel Time ($\\mu$s)')\n",
    "plt.xlabel('Amplitude')\n",
    "plt.title('Corrected')\n",
    "\n",
    "plt.tight_layout()\n",
    "plt.show()"
   ]
  }
 ],
 "metadata": {
  "kernelspec": {
   "display_name": "Python 3",
   "language": "python",
   "name": "python3"
  },
  "language_info": {
   "codemirror_mode": {
    "name": "ipython",
    "version": 3
   },
   "file_extension": ".py",
   "mimetype": "text/x-python",
   "name": "python",
   "nbconvert_exporter": "python",
   "pygments_lexer": "ipython3",
   "version": "3.8.8"
  }
 },
 "nbformat": 4,
 "nbformat_minor": 4
}
