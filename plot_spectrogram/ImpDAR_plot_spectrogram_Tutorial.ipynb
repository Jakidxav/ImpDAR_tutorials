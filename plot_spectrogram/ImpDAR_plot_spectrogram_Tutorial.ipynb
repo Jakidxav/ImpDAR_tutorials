{
 "cells": [
  {
   "cell_type": "markdown",
   "metadata": {},
   "source": [
    "# ImpDAR  plot_spectrogram() Tutorial"
   ]
  },
  {
   "cell_type": "markdown",
   "metadata": {},
   "source": [
    "## Introduction\n",
    "\n",
    "Below are two Matlab files, one from a 2017 data collection season in the South Cascades, Washington state, and the other from a 2019 season at Hercules Dome, Antarctica. We have loaded these files into ImpDAR and converted them to RadarData objects to standardize their attribute names and metadata. After that, we cropped the data to remove the time delay at the top of the radargram. ImpDAR crops the data dynamically to allow you to remove the data collected as a result of the pre-trigger, which is how soon after you start collecting data that the transmitter actually sends out its first pulse. A very common next processing step is to vertically bandbass the data around some central frequency. This central frequency is determined by the type of antenna that is chosen to collect the data with. However, some antennas might not be tuned well, and so there actual central frequency can be very different than that listed for the antenna. The `plot_spectrogram()` method outlined below allows you to visually detect the central frequency that was used to collect the data, taking the guesswork out of the process. We use the [`signal.periodogram()`](https://docs.scipy.org/doc/scipy-0.14.0/reference/generated/scipy.signal.periodogram.html#scipy.signal.periodogram) method from SciPy which returns an estimate of the power spectral density. This calculates a Fast Fourier Transform and gives us back a histogram of representative frequencies in a signal.\n",
    "\n",
    "**Note**: the `plot_spectrogram()` assumes that your data is in the frequency domain. A limitation of this is that it cannot be used for data in the power domain, which is unfortunate given some of the benefits of thinking in terms of power."
   ]
  },
  {
   "cell_type": "code",
   "execution_count": 1,
   "metadata": {},
   "outputs": [],
   "source": [
    "# We get annoying warnings about backends that are safe to ignore\n",
    "import warnings\n",
    "warnings.filterwarnings('ignore')\n",
    "\n",
    "%matplotlib inline\n",
    "\n",
    "import numpy as np\n",
    "import scipy\n",
    "import scipy.signal as signal\n",
    "import scipy.io as io\n",
    "\n",
    "import matplotlib.pyplot as plt\n",
    "\n",
    "from impdar.lib import load\n",
    "from impdar.lib import process\n",
    "from impdar.lib import plot\n"
   ]
  },
  {
   "cell_type": "code",
   "execution_count": 2,
   "metadata": {},
   "outputs": [
    {
     "name": "stdout",
     "output_type": "stream",
     "text": [
      "Warning: Low freq compared to sampling rate. Forcing a maximum plength\n"
     ]
    }
   ],
   "source": [
    "#example files on disk\n",
    "scg_file = '../data/data03_LINE04_raw.mat'\n",
    "herc_file = '../data/HDGridE_x53_raw.mat'\n",
    "\n",
    "#load files\n",
    "scg_dat = load.load('mat', scg_file)[0]\n",
    "herc_dat = load.load('mat', herc_file)[0]"
   ]
  },
  {
   "cell_type": "markdown",
   "metadata": {},
   "source": [
    "Let's do some basic pre-processing:"
   ]
  },
  {
   "cell_type": "code",
   "execution_count": null,
   "metadata": {},
   "outputs": [],
   "source": [
    "#crop the pretrigger from the top of the data\n",
    "scg_dat.crop(top_or_bottom='top')"
   ]
  },
  {
   "cell_type": "code",
   "execution_count": null,
   "metadata": {},
   "outputs": [],
   "source": [
    "#crop the top of the data\n",
    "herc_dat.crop(top_or_bottom='top')\n",
    "\n",
    "#normal move out correction with antenna separation in meters\n",
    "herc_dat.nmo(ant_sep=171.4)\n",
    "\n"
   ]
  },
  {
   "cell_type": "code",
   "execution_count": null,
   "metadata": {},
   "outputs": [],
   "source": [
    "#we can look at all of the attributes that a RadarData object in ImpDAR keeps track of\n",
    "vars(scg_dat)"
   ]
  },
  {
   "cell_type": "code",
   "execution_count": null,
   "metadata": {},
   "outputs": [],
   "source": [
    "#print out the dimensions of each radar gram\n",
    "print('The SCG data has dimensions {}.'.format(scg_dat.data.shape))\n",
    "print('The Hercules Dome data has dimensions {}.'.format(herc_dat.data.shape))"
   ]
  },
  {
   "cell_type": "markdown",
   "metadata": {},
   "source": [
    "ImpDAR's plotting library also makes it easy to visualize radargrams quickly."
   ]
  },
  {
   "cell_type": "code",
   "execution_count": null,
   "metadata": {},
   "outputs": [],
   "source": [
    "plot.plot_radargram(scg_dat)"
   ]
  },
  {
   "cell_type": "code",
   "execution_count": null,
   "metadata": {},
   "outputs": [],
   "source": [
    "plot.plot_radargram(herc_dat)"
   ]
  },
  {
   "cell_type": "markdown",
   "metadata": {},
   "source": [
    "The snow data from the South Cascades looks at least recognizable, but often data coming back from Antarctica needs to be bandpassed before if can be visualized in any meaningful way because it is collected using super low frequency systems."
   ]
  },
  {
   "cell_type": "markdown",
   "metadata": {},
   "source": [
    "## Plotting Power Spectral Density\n",
    "As a first example, let's plot the periodogram across traces in the radargram. We can limit the plot's y-limit frequency to 2000 MHz to zoom in on the area of interest."
   ]
  },
  {
   "cell_type": "code",
   "execution_count": null,
   "metadata": {},
   "outputs": [],
   "source": [
    "plot.plot_spectrogram(scg_dat, freq_limit=(0, 1000))"
   ]
  },
  {
   "cell_type": "markdown",
   "metadata": {},
   "source": [
    "Command line version of calling this method:\n",
    "\n",
    "```python\n",
    "impdar plot -spectra 0 1000 data03_LINE04_raw.mat\n",
    "```\n",
    "\n",
    "The central frequency listed for this Pulse Ekko antenna was listed as 500 MHz, but as you can see there is significant ringing at 200 and ~600 MHz. We could run calculate the Fast Fourier Transform using a Hanning Window to try and cut down on the noise a bit."
   ]
  },
  {
   "cell_type": "code",
   "execution_count": null,
   "metadata": {},
   "outputs": [],
   "source": [
    "plot.plot_spectrogram(scg_dat, freq_limit=(0, 1000), window='hanning')"
   ]
  },
  {
   "cell_type": "markdown",
   "metadata": {},
   "source": [
    "This shows that the actual central frequency was probably closer to 600 MHz. The danger with using a Hanning window or something similar is that you can lose a lot of important information.\n",
    "\n",
    "The Hercules Dome data is a little bit different than the South Cascade data in that it had an extra processing step done to it after being cropped but before needing to be bandpassed. We performed a normal moveout correction, about which there is another in-depth Jupyter Notebook tutorial within this repository. The short version of what this correction does is that describes the effect that the distance between a seismic source and a receiver (the offset) has on the arrival time of a reflection in the form of an increase of time with offset. So the NMO correction removes the “V” that we get from the antennae firing and when the signal is received later on as we move, then converts that signal to a fixed point. Note: this is not a full time to distance conversion because we don’t have velocity data.\n",
    "\n",
    "Here is the shell command that was run:\n",
    "\n",
    "```python\n",
    "impproc nmo 171.4 HDGridE_x53_raw.mat\n",
    "```\n",
    "\n",
    "Let's plot the Hercules Dome frequency data."
   ]
  },
  {
   "cell_type": "code",
   "execution_count": null,
   "metadata": {},
   "outputs": [],
   "source": [
    "plot.plot_spectrogram(herc_dat, freq_limit=(0,4))"
   ]
  },
  {
   "cell_type": "markdown",
   "metadata": {},
   "source": [
    "## Vertically Bandpassing Our Data\n",
    "This information can be an easy way to identify which central frequencies to bandpass around. If you were working on the command line, you could use the following commands to vertically bandpass the data:\n",
    "\n",
    "```python\n",
    "impproc vbp 250 750 data03_LINE04_cropped.mat\n",
    "```\n",
    "\n",
    "And:\n",
    "\n",
    "```python\n",
    "impproc vbp 1 5 HDGridE_x53_nmo_cropped.mat\n",
    "```\n",
    "\n",
    "In the Hercules Dome data, the actual central frequency is 3 MHz, but the low frequency ringing is drowning out the signal. In this case, it helps to have knowledge of the antennae specifications.\n",
    "\n",
    "Let's go ahead and vertically bandpass filter this data and look at the output."
   ]
  },
  {
   "cell_type": "code",
   "execution_count": null,
   "metadata": {},
   "outputs": [],
   "source": [
    "#go ahead and use 500 MHz as the central frequency\n",
    "scg_dat.vertical_band_pass(250, 750)"
   ]
  },
  {
   "cell_type": "code",
   "execution_count": null,
   "metadata": {},
   "outputs": [],
   "source": [
    "#visualize the processed radargram\n",
    "#this is a more convenient way to call impdar's plotting library with the RadarData object directly\n",
    "plot.plot_radargram(scg_dat)"
   ]
  },
  {
   "cell_type": "markdown",
   "metadata": {},
   "source": [
    "The South Cascade data looks a little cleaner, but not muched changed. How about the Hercules Dome data?"
   ]
  },
  {
   "cell_type": "code",
   "execution_count": null,
   "metadata": {},
   "outputs": [],
   "source": [
    "#using 3 MHz as the central frequency\n",
    "herc_dat.vertical_band_pass(1, 5)"
   ]
  },
  {
   "cell_type": "code",
   "execution_count": null,
   "metadata": {},
   "outputs": [],
   "source": [
    "#visualize the output\n",
    "plot.plot_radargram(herc_dat)"
   ]
  },
  {
   "cell_type": "markdown",
   "metadata": {},
   "source": [
    "That made a big difference! Now you can see some of the bedrock topography, and a lot more definition in the layer stratifcation. However, both sets of data could use more processing steps to further clean them up. Next, you could then interpolate, adaptively horizontally filter, and migrate the data. There is no need to migrate South Cascade data, it is mainly for removing the hyperbolae like in the Hercules Dome data. If you want to dig deeper into the migration routines that ImpDAR supports, there is another excellent tutorial within this repository."
   ]
  }
 ],
 "metadata": {
  "kernelspec": {
   "display_name": "Python 3",
   "language": "python",
   "name": "python3"
  },
  "language_info": {
   "codemirror_mode": {
    "name": "ipython",
    "version": 3
   },
   "file_extension": ".py",
   "mimetype": "text/x-python",
   "name": "python",
   "nbconvert_exporter": "python",
   "pygments_lexer": "ipython3",
   "version": "3.6.8"
  }
 },
 "nbformat": 4,
 "nbformat_minor": 2
}
